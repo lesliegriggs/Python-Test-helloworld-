{
  "nbformat": 4,
  "nbformat_minor": 0,
  "metadata": {
    "colab": {
      "name": "Hello World.ipynb",
      "provenance": []
    },
    "kernelspec": {
      "name": "python3",
      "display_name": "Python 3"
    },
    "language_info": {
      "name": "python"
    }
  },
  "cells": [
    {
      "cell_type": "code",
      "execution_count": 1,
      "metadata": {
        "colab": {
          "base_uri": "https://localhost:8080/"
        },
        "id": "C2xwU9XHiiK3",
        "outputId": "71a4b8c7-fb82-40a2-867e-2e0464ccc662"
      },
      "outputs": [
        {
          "output_type": "stream",
          "name": "stdout",
          "text": [
            "Hello World!\n"
          ]
        }
      ],
      "source": [
        "print(\"Hello World!\")"
      ]
    },
    {
      "cell_type": "markdown",
      "source": [
        "## Hello World!"
      ],
      "metadata": {
        "id": "cVNJuN14jI_7"
      }
    },
    {
      "cell_type": "code",
      "source": [
        "my_dict = {'First_Name' : 'Leslie', 'Last_Name' : 'Griggs' , 'Age' : 19}\n",
        "my_dict"
      ],
      "metadata": {
        "colab": {
          "base_uri": "https://localhost:8080/"
        },
        "id": "Zrpf5RglkeKC",
        "outputId": "4ef92cd4-1147-42bb-d6ed-ae1fb1045051"
      },
      "execution_count": 3,
      "outputs": [
        {
          "output_type": "execute_result",
          "data": {
            "text/plain": [
              "{'First_Name': 'Leslie', 'Last_Name': 'Griggs', 'Age': 19}"
            ]
          },
          "metadata": {},
          "execution_count": 3
        }
      ]
    },
    {
      "cell_type": "code",
      "source": [
        "my_dict['First_Name']"
      ],
      "metadata": {
        "colab": {
          "base_uri": "https://localhost:8080/",
          "height": 36
        },
        "id": "u_ljwBgbktcJ",
        "outputId": "cb400b4a-af0c-4e11-9ac0-f91430947f92"
      },
      "execution_count": 4,
      "outputs": [
        {
          "output_type": "execute_result",
          "data": {
            "text/plain": [
              "'Leslie'"
            ],
            "application/vnd.google.colaboratory.intrinsic+json": {
              "type": "string"
            }
          },
          "metadata": {},
          "execution_count": 4
        }
      ]
    },
    {
      "cell_type": "code",
      "source": [
        "stg =  \"Hello World\""
      ],
      "metadata": {
        "id": "lOyqvNWhjegi"
      },
      "execution_count": 2,
      "outputs": []
    }
  ]
}